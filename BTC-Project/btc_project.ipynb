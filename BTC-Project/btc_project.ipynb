{
  "cells": [
    {
      "cell_type": "markdown",
      "metadata": {
        "id": "xRqc0PzBTqJB"
      },
      "source": [
        "#importing all libraries"
      ]
    },
    {
      "cell_type": "code",
      "execution_count": 1,
      "metadata": {
        "id": "QHyRf4_uCmhT"
      },
      "outputs": [],
      "source": [
        "import numpy as np\n",
        "import matplotlib.pyplot as plt\n",
        "import pandas as pd\n",
        "import requests\n",
        "import tensorflow as tf\n",
        "from sklearn.preprocessing import MinMaxScaler\n",
        "from tensorflow.keras.layers import Dense, Dropout, LSTM\n",
        "from tensorflow.keras.models import Sequential"
      ]
    },
    {
      "cell_type": "markdown",
      "metadata": {
        "id": "9FHDJ9TrTvMO"
      },
      "source": [
        "#Obtaining market data from twelvedata"
      ]
    },
    {
      "cell_type": "code",
      "execution_count": 2,
      "metadata": {
        "id": "eaHVAkGnMBMt"
      },
      "outputs": [],
      "source": [
        "api_key = 'ae33d65c666843ec9ea83892f64671b4'\n",
        "symbol = 'BTC/USD'\n",
        "interval = '30min'\n",
        "order = 'asc'\n",
        "\n",
        "start_date = '2022-03-10 00:00:00'\n",
        "end_date = '2022-06-23 00:00:00'\n",
        "\n",
        "api_url=f'https://api.twelvedata.com/time_series?apikey={api_key}&interval={interval}&symbol={symbol}&order={order}&start_date={start_date}&end_date={end_date}'"
      ]
    },
    {
      "cell_type": "code",
      "execution_count": 3,
      "metadata": {
        "colab": {
          "base_uri": "https://localhost:8080/",
          "height": 423
        },
        "id": "xcHpBh6STJSM",
        "outputId": "df09717f-1a59-49df-f446-d4aacecac976"
      },
      "outputs": [
        {
          "output_type": "execute_result",
          "data": {
            "text/plain": [
              "                 datetime         open         high          low        close\n",
              "0     2022-03-10 07:30:00  39315.60156  39419.69141  39215.67188  39236.58984\n",
              "1     2022-03-10 08:00:00  39248.55078  39248.55078  38868.89844  39053.23047\n",
              "2     2022-03-10 08:30:00  39058.75000  39269.39844  39006.03125  39269.39844\n",
              "3     2022-03-10 09:00:00  39235.32812  39297.55078  39104.00000  39169.82812\n",
              "4     2022-03-10 09:30:00  39151.76172  39316.87109  39062.44141  39185.78125\n",
              "...                   ...          ...          ...          ...          ...\n",
              "4995  2022-06-22 22:00:00  19969.13086  20032.71094  19899.50977  19944.00977\n",
              "4996  2022-06-22 22:30:00  19946.08008  20143.83008  19943.00000  20104.47070\n",
              "4997  2022-06-22 23:00:00  20103.69922  20119.11914  20060.66016  20069.09961\n",
              "4998  2022-06-22 23:30:00  20073.66016  20097.60938  19948.75977  19953.93945\n",
              "4999  2022-06-23 00:00:00  19960.91016  20421.00000  19881.33984  20292.75000\n",
              "\n",
              "[5000 rows x 5 columns]"
            ],
            "text/html": [
              "\n",
              "\n",
              "  <div id=\"df-680e3603-73e3-490e-9ac8-2cf66555a0be\">\n",
              "    <div class=\"colab-df-container\">\n",
              "      <div>\n",
              "<style scoped>\n",
              "    .dataframe tbody tr th:only-of-type {\n",
              "        vertical-align: middle;\n",
              "    }\n",
              "\n",
              "    .dataframe tbody tr th {\n",
              "        vertical-align: top;\n",
              "    }\n",
              "\n",
              "    .dataframe thead th {\n",
              "        text-align: right;\n",
              "    }\n",
              "</style>\n",
              "<table border=\"1\" class=\"dataframe\">\n",
              "  <thead>\n",
              "    <tr style=\"text-align: right;\">\n",
              "      <th></th>\n",
              "      <th>datetime</th>\n",
              "      <th>open</th>\n",
              "      <th>high</th>\n",
              "      <th>low</th>\n",
              "      <th>close</th>\n",
              "    </tr>\n",
              "  </thead>\n",
              "  <tbody>\n",
              "    <tr>\n",
              "      <th>0</th>\n",
              "      <td>2022-03-10 07:30:00</td>\n",
              "      <td>39315.60156</td>\n",
              "      <td>39419.69141</td>\n",
              "      <td>39215.67188</td>\n",
              "      <td>39236.58984</td>\n",
              "    </tr>\n",
              "    <tr>\n",
              "      <th>1</th>\n",
              "      <td>2022-03-10 08:00:00</td>\n",
              "      <td>39248.55078</td>\n",
              "      <td>39248.55078</td>\n",
              "      <td>38868.89844</td>\n",
              "      <td>39053.23047</td>\n",
              "    </tr>\n",
              "    <tr>\n",
              "      <th>2</th>\n",
              "      <td>2022-03-10 08:30:00</td>\n",
              "      <td>39058.75000</td>\n",
              "      <td>39269.39844</td>\n",
              "      <td>39006.03125</td>\n",
              "      <td>39269.39844</td>\n",
              "    </tr>\n",
              "    <tr>\n",
              "      <th>3</th>\n",
              "      <td>2022-03-10 09:00:00</td>\n",
              "      <td>39235.32812</td>\n",
              "      <td>39297.55078</td>\n",
              "      <td>39104.00000</td>\n",
              "      <td>39169.82812</td>\n",
              "    </tr>\n",
              "    <tr>\n",
              "      <th>4</th>\n",
              "      <td>2022-03-10 09:30:00</td>\n",
              "      <td>39151.76172</td>\n",
              "      <td>39316.87109</td>\n",
              "      <td>39062.44141</td>\n",
              "      <td>39185.78125</td>\n",
              "    </tr>\n",
              "    <tr>\n",
              "      <th>...</th>\n",
              "      <td>...</td>\n",
              "      <td>...</td>\n",
              "      <td>...</td>\n",
              "      <td>...</td>\n",
              "      <td>...</td>\n",
              "    </tr>\n",
              "    <tr>\n",
              "      <th>4995</th>\n",
              "      <td>2022-06-22 22:00:00</td>\n",
              "      <td>19969.13086</td>\n",
              "      <td>20032.71094</td>\n",
              "      <td>19899.50977</td>\n",
              "      <td>19944.00977</td>\n",
              "    </tr>\n",
              "    <tr>\n",
              "      <th>4996</th>\n",
              "      <td>2022-06-22 22:30:00</td>\n",
              "      <td>19946.08008</td>\n",
              "      <td>20143.83008</td>\n",
              "      <td>19943.00000</td>\n",
              "      <td>20104.47070</td>\n",
              "    </tr>\n",
              "    <tr>\n",
              "      <th>4997</th>\n",
              "      <td>2022-06-22 23:00:00</td>\n",
              "      <td>20103.69922</td>\n",
              "      <td>20119.11914</td>\n",
              "      <td>20060.66016</td>\n",
              "      <td>20069.09961</td>\n",
              "    </tr>\n",
              "    <tr>\n",
              "      <th>4998</th>\n",
              "      <td>2022-06-22 23:30:00</td>\n",
              "      <td>20073.66016</td>\n",
              "      <td>20097.60938</td>\n",
              "      <td>19948.75977</td>\n",
              "      <td>19953.93945</td>\n",
              "    </tr>\n",
              "    <tr>\n",
              "      <th>4999</th>\n",
              "      <td>2022-06-23 00:00:00</td>\n",
              "      <td>19960.91016</td>\n",
              "      <td>20421.00000</td>\n",
              "      <td>19881.33984</td>\n",
              "      <td>20292.75000</td>\n",
              "    </tr>\n",
              "  </tbody>\n",
              "</table>\n",
              "<p>5000 rows × 5 columns</p>\n",
              "</div>\n",
              "      <button class=\"colab-df-convert\" onclick=\"convertToInteractive('df-680e3603-73e3-490e-9ac8-2cf66555a0be')\"\n",
              "              title=\"Convert this dataframe to an interactive table.\"\n",
              "              style=\"display:none;\">\n",
              "\n",
              "  <svg xmlns=\"http://www.w3.org/2000/svg\" height=\"24px\"viewBox=\"0 0 24 24\"\n",
              "       width=\"24px\">\n",
              "    <path d=\"M0 0h24v24H0V0z\" fill=\"none\"/>\n",
              "    <path d=\"M18.56 5.44l.94 2.06.94-2.06 2.06-.94-2.06-.94-.94-2.06-.94 2.06-2.06.94zm-11 1L8.5 8.5l.94-2.06 2.06-.94-2.06-.94L8.5 2.5l-.94 2.06-2.06.94zm10 10l.94 2.06.94-2.06 2.06-.94-2.06-.94-.94-2.06-.94 2.06-2.06.94z\"/><path d=\"M17.41 7.96l-1.37-1.37c-.4-.4-.92-.59-1.43-.59-.52 0-1.04.2-1.43.59L10.3 9.45l-7.72 7.72c-.78.78-.78 2.05 0 2.83L4 21.41c.39.39.9.59 1.41.59.51 0 1.02-.2 1.41-.59l7.78-7.78 2.81-2.81c.8-.78.8-2.07 0-2.86zM5.41 20L4 18.59l7.72-7.72 1.47 1.35L5.41 20z\"/>\n",
              "  </svg>\n",
              "      </button>\n",
              "\n",
              "\n",
              "\n",
              "    <div id=\"df-7bb6b8f9-06b8-4c04-944e-694e0e272cd5\">\n",
              "      <button class=\"colab-df-quickchart\" onclick=\"quickchart('df-7bb6b8f9-06b8-4c04-944e-694e0e272cd5')\"\n",
              "              title=\"Suggest charts.\"\n",
              "              style=\"display:none;\">\n",
              "\n",
              "<svg xmlns=\"http://www.w3.org/2000/svg\" height=\"24px\"viewBox=\"0 0 24 24\"\n",
              "     width=\"24px\">\n",
              "    <g>\n",
              "        <path d=\"M19 3H5c-1.1 0-2 .9-2 2v14c0 1.1.9 2 2 2h14c1.1 0 2-.9 2-2V5c0-1.1-.9-2-2-2zM9 17H7v-7h2v7zm4 0h-2V7h2v10zm4 0h-2v-4h2v4z\"/>\n",
              "    </g>\n",
              "</svg>\n",
              "      </button>\n",
              "    </div>\n",
              "\n",
              "<style>\n",
              "  .colab-df-quickchart {\n",
              "    background-color: #E8F0FE;\n",
              "    border: none;\n",
              "    border-radius: 50%;\n",
              "    cursor: pointer;\n",
              "    display: none;\n",
              "    fill: #1967D2;\n",
              "    height: 32px;\n",
              "    padding: 0 0 0 0;\n",
              "    width: 32px;\n",
              "  }\n",
              "\n",
              "  .colab-df-quickchart:hover {\n",
              "    background-color: #E2EBFA;\n",
              "    box-shadow: 0px 1px 2px rgba(60, 64, 67, 0.3), 0px 1px 3px 1px rgba(60, 64, 67, 0.15);\n",
              "    fill: #174EA6;\n",
              "  }\n",
              "\n",
              "  [theme=dark] .colab-df-quickchart {\n",
              "    background-color: #3B4455;\n",
              "    fill: #D2E3FC;\n",
              "  }\n",
              "\n",
              "  [theme=dark] .colab-df-quickchart:hover {\n",
              "    background-color: #434B5C;\n",
              "    box-shadow: 0px 1px 3px 1px rgba(0, 0, 0, 0.15);\n",
              "    filter: drop-shadow(0px 1px 2px rgba(0, 0, 0, 0.3));\n",
              "    fill: #FFFFFF;\n",
              "  }\n",
              "</style>\n",
              "\n",
              "    <script>\n",
              "      async function quickchart(key) {\n",
              "        const containerElement = document.querySelector('#' + key);\n",
              "        const charts = await google.colab.kernel.invokeFunction(\n",
              "            'suggestCharts', [key], {});\n",
              "      }\n",
              "    </script>\n",
              "\n",
              "      <script>\n",
              "\n",
              "function displayQuickchartButton(domScope) {\n",
              "  let quickchartButtonEl =\n",
              "    domScope.querySelector('#df-7bb6b8f9-06b8-4c04-944e-694e0e272cd5 button.colab-df-quickchart');\n",
              "  quickchartButtonEl.style.display =\n",
              "    google.colab.kernel.accessAllowed ? 'block' : 'none';\n",
              "}\n",
              "\n",
              "        displayQuickchartButton(document);\n",
              "      </script>\n",
              "      <style>\n",
              "    .colab-df-container {\n",
              "      display:flex;\n",
              "      flex-wrap:wrap;\n",
              "      gap: 12px;\n",
              "    }\n",
              "\n",
              "    .colab-df-convert {\n",
              "      background-color: #E8F0FE;\n",
              "      border: none;\n",
              "      border-radius: 50%;\n",
              "      cursor: pointer;\n",
              "      display: none;\n",
              "      fill: #1967D2;\n",
              "      height: 32px;\n",
              "      padding: 0 0 0 0;\n",
              "      width: 32px;\n",
              "    }\n",
              "\n",
              "    .colab-df-convert:hover {\n",
              "      background-color: #E2EBFA;\n",
              "      box-shadow: 0px 1px 2px rgba(60, 64, 67, 0.3), 0px 1px 3px 1px rgba(60, 64, 67, 0.15);\n",
              "      fill: #174EA6;\n",
              "    }\n",
              "\n",
              "    [theme=dark] .colab-df-convert {\n",
              "      background-color: #3B4455;\n",
              "      fill: #D2E3FC;\n",
              "    }\n",
              "\n",
              "    [theme=dark] .colab-df-convert:hover {\n",
              "      background-color: #434B5C;\n",
              "      box-shadow: 0px 1px 3px 1px rgba(0, 0, 0, 0.15);\n",
              "      filter: drop-shadow(0px 1px 2px rgba(0, 0, 0, 0.3));\n",
              "      fill: #FFFFFF;\n",
              "    }\n",
              "  </style>\n",
              "\n",
              "      <script>\n",
              "        const buttonEl =\n",
              "          document.querySelector('#df-680e3603-73e3-490e-9ac8-2cf66555a0be button.colab-df-convert');\n",
              "        buttonEl.style.display =\n",
              "          google.colab.kernel.accessAllowed ? 'block' : 'none';\n",
              "\n",
              "        async function convertToInteractive(key) {\n",
              "          const element = document.querySelector('#df-680e3603-73e3-490e-9ac8-2cf66555a0be');\n",
              "          const dataTable =\n",
              "            await google.colab.kernel.invokeFunction('convertToInteractive',\n",
              "                                                     [key], {});\n",
              "          if (!dataTable) return;\n",
              "\n",
              "          const docLinkHtml = 'Like what you see? Visit the ' +\n",
              "            '<a target=\"_blank\" href=https://colab.research.google.com/notebooks/data_table.ipynb>data table notebook</a>'\n",
              "            + ' to learn more about interactive tables.';\n",
              "          element.innerHTML = '';\n",
              "          dataTable['output_type'] = 'display_data';\n",
              "          await google.colab.output.renderOutput(dataTable, element);\n",
              "          const docLink = document.createElement('div');\n",
              "          docLink.innerHTML = docLinkHtml;\n",
              "          element.appendChild(docLink);\n",
              "        }\n",
              "      </script>\n",
              "    </div>\n",
              "  </div>\n"
            ]
          },
          "metadata": {},
          "execution_count": 3
        }
      ],
      "source": [
        "data = requests.get(api_url).json()\n",
        "data_final = pd.DataFrame(data['values'])\n",
        "data_final"
      ]
    },
    {
      "cell_type": "markdown",
      "metadata": {
        "id": "lT1gO3AET2PK"
      },
      "source": [
        "#plotting the graph of bitcoin from the dataset"
      ]
    },
    {
      "cell_type": "code",
      "execution_count": 4,
      "metadata": {
        "id": "3NRbQBxgyALB",
        "colab": {
          "base_uri": "https://localhost:8080/",
          "height": 564
        },
        "outputId": "009cb601-0901-4297-bf6f-c3d58dfaa9f7"
      },
      "outputs": [
        {
          "output_type": "display_data",
          "data": {
            "text/plain": [
              "<Figure size 1500x600 with 1 Axes>"
            ],
            "image/png": "[encoded data removed]"
          },
          "metadata": {}
        }
      ],
      "source": [
        "bitcoin_prices = pd.to_numeric(data_final['close'], errors = 'coerce').values\n",
        "\n",
        "plt.figure(figsize=(15,6))\n",
        "plt.plot(bitcoin_prices, label='Actual Bitcoin Prices')\n",
        "plt.title('Bitcoin Prices')\n",
        "plt.xlabel('30min Time Interval---->')\n",
        "plt.ylabel('Price')\n",
        "plt.legend()\n",
        "plt.show()"
      ]
    },
    {
      "cell_type": "markdown",
      "metadata": {
        "id": "L5x9bXp4UK_X"
      },
      "source": [
        "#squishing our price data in the range [0, 1], this helps our optimization algorithm converge faster"
      ]
    },
    {
      "cell_type": "code",
      "execution_count": 5,
      "metadata": {
        "id": "e-qGiiqbTW6g"
      },
      "outputs": [],
      "source": [
        "#squishing data into the [0,1] price range\n",
        "scaler = MinMaxScaler(feature_range=(0,1))\n",
        "scaled_data = scaler.fit_transform(data_final['close'].values.reshape(-1,1))"
      ]
    },
    {
      "cell_type": "code",
      "execution_count": 6,
      "metadata": {
        "colab": {
          "base_uri": "https://localhost:8080/"
        },
        "id": "oKm9t8PhV339",
        "outputId": "a784744c-3df9-4933-e927-72ce2ef067b3"
      },
      "outputs": [
        {
          "output_type": "execute_result",
          "data": {
            "text/plain": [
              "array([[0.70788167],\n",
              "       [0.70185516],\n",
              "       [0.70896   ],\n",
              "       ...,\n",
              "       [0.07789955],\n",
              "       [0.07411455],\n",
              "       [0.08525032]])"
            ]
          },
          "metadata": {},
          "execution_count": 6
        }
      ],
      "source": [
        "scaled_data"
      ]
    },
    {
      "cell_type": "markdown",
      "source": [
        "# Setting X_train and y_train"
      ],
      "metadata": {
        "id": "XsZyX9glLQ3p"
      }
    },
    {
      "cell_type": "code",
      "execution_count": 7,
      "metadata": {
        "id": "Dgyn3C-GV8Sw"
      },
      "outputs": [],
      "source": [
        "time_intervals_to_train = 24\n",
        "prediction_interval = 12\n",
        "x_train=[]\n",
        "y_train=[]"
      ]
    },
    {
      "cell_type": "code",
      "execution_count": 8,
      "metadata": {
        "id": "p7NSbUyrXpaq"
      },
      "outputs": [],
      "source": [
        "for i in range(time_intervals_to_train, len(scaled_data)-prediction_interval):\n",
        "  x_train.append(scaled_data[i - time_intervals_to_train: i, 0])\n",
        "  y_train.append(scaled_data[i + prediction_interval, 0])\n",
        "\n",
        "x_train = np.array(x_train)\n",
        "y_train = np.array(y_train)"
      ]
    },
    {
      "cell_type": "code",
      "execution_count": 9,
      "metadata": {
        "id": "rtQhHHHIYui1"
      },
      "outputs": [],
      "source": [
        "x_train = np.reshape(x_train,(x_train.shape[0],x_train.shape[1],1))"
      ]
    },
    {
      "cell_type": "code",
      "execution_count": 10,
      "metadata": {
        "colab": {
          "base_uri": "https://localhost:8080/"
        },
        "id": "NOVLbUteYvTk",
        "outputId": "d9e0c4af-03d2-49eb-8cf5-027b0f39b208"
      },
      "outputs": [
        {
          "output_type": "execute_result",
          "data": {
            "text/plain": [
              "(4964, 24, 1)"
            ]
          },
          "metadata": {},
          "execution_count": 10
        }
      ],
      "source": [
        "x_train.shape"
      ]
    },
    {
      "cell_type": "markdown",
      "source": [
        "# Model creation and compilation"
      ],
      "metadata": {
        "id": "W1wO6DgsLWX4"
      }
    },
    {
      "cell_type": "code",
      "execution_count": 11,
      "metadata": {
        "id": "x2u0rc1gY141",
        "outputId": "8abc8039-35f8-4b55-fbcd-7a0898f363ac",
        "colab": {
          "base_uri": "https://localhost:8080/"
        }
      },
      "outputs": [
        {
          "output_type": "stream",
          "name": "stderr",
          "text": [
            "WARNING:tensorflow:Layer lstm will not use cuDNN kernels since it doesn't meet the criteria. It will use a generic GPU kernel as fallback when running on GPU.\n",
            "WARNING:tensorflow:Layer lstm_1 will not use cuDNN kernels since it doesn't meet the criteria. It will use a generic GPU kernel as fallback when running on GPU.\n",
            "WARNING:tensorflow:Layer lstm_2 will not use cuDNN kernels since it doesn't meet the criteria. It will use a generic GPU kernel as fallback when running on GPU.\n"
          ]
        }
      ],
      "source": [
        "model = Sequential()\n",
        "model.add(LSTM(128, return_sequences = True, input_shape =(x_train.shape[1],1), activation='relu'))\n",
        "#to avoid overfitting, dropout layer has been used\n",
        "model.add(Dropout(0.4))\n",
        "model.add(LSTM(64, return_sequences = True, activation='relu'))\n",
        "model.add(Dropout(0.3))\n",
        "model.add(LSTM(32, activation='relu'))\n",
        "model.add(Dropout(0.2))\n",
        "model.add(Dense(1, activation = 'sigmoid'))"
      ]
    },
    {
      "cell_type": "code",
      "source": [
        "model.summary()"
      ],
      "metadata": {
        "colab": {
          "base_uri": "https://localhost:8080/"
        },
        "id": "3PSjWxziqYr0",
        "outputId": "905f2820-b1cf-4a04-c314-3f190c08ddeb"
      },
      "execution_count": 12,
      "outputs": [
        {
          "output_type": "stream",
          "name": "stdout",
          "text": [
            "Model: \"sequential\"\n",
            "_________________________________________________________________\n",
            " Layer (type)                Output Shape              Param #   \n",
            "=================================================================\n",
            " lstm (LSTM)                 (None, 24, 128)           66560     \n",
            "                                                                 \n",
            " dropout (Dropout)           (None, 24, 128)           0         \n",
            "                                                                 \n",
            " lstm_1 (LSTM)               (None, 24, 64)            49408     \n",
            "                                                                 \n",
            " dropout_1 (Dropout)         (None, 24, 64)            0         \n",
            "                                                                 \n",
            " lstm_2 (LSTM)               (None, 32)                12416     \n",
            "                                                                 \n",
            " dropout_2 (Dropout)         (None, 32)                0         \n",
            "                                                                 \n",
            " dense (Dense)               (None, 1)                 33        \n",
            "                                                                 \n",
            "=================================================================\n",
            "Total params: 128,417\n",
            "Trainable params: 128,417\n",
            "Non-trainable params: 0\n",
            "_________________________________________________________________\n"
          ]
        }
      ]
    },
    {
      "cell_type": "code",
      "execution_count": 13,
      "metadata": {
        "id": "Z97UrhF_aeo7"
      },
      "outputs": [],
      "source": [
        "model.compile(loss= 'mean_squared_error', optimizer='adam')"
      ]
    },
    {
      "cell_type": "markdown",
      "metadata": {
        "id": "zgDtT0nWbNJI"
      },
      "source": [
        "#Train the model on basis of training data\n"
      ]
    },
    {
      "cell_type": "code",
      "execution_count": null,
      "metadata": {
        "colab": {
          "base_uri": "https://localhost:8080/"
        },
        "id": "m66kKpqCaqiC",
        "outputId": "6464934b-c15b-4cd8-b386-974ad341307c"
      },
      "outputs": [
        {
          "output_type": "stream",
          "name": "stdout",
          "text": [
            "Epoch 1/10\n"
          ]
        }
      ],
      "source": [
        "model.fit(x_train, y_train, epochs = 10, batch_size=64)"
      ]
    },
    {
      "cell_type": "markdown",
      "metadata": {
        "id": "dyIrPZjUUc1K"
      },
      "source": [
        "model has been trained\n",
        "\n",
        "#Obtaining a new dataset to test the accuracy of our model"
      ]
    },
    {
      "cell_type": "code",
      "execution_count": null,
      "metadata": {
        "id": "V-O61GMgcJWV"
      },
      "outputs": [],
      "source": [
        "test_start = '2022-06-23 00:00:00'\n",
        "test_end = '2022-08-27 00:00:00'\n",
        "test_api_url = f'https://api.twelvedata.com/time_series?apikey={api_key}&interval={interval}&symbol={symbol}&order={order}&start_date={test_start}&end_date={test_end}'\n",
        "test_data = requests.get(test_api_url).json()\n",
        "test_data_final = pd.DataFrame(test_data['values'])\n",
        "test_data_final"
      ]
    },
    {
      "cell_type": "code",
      "execution_count": null,
      "metadata": {
        "id": "Wpz60QUUc5FU"
      },
      "outputs": [],
      "source": [
        "bitcoin_prices = pd.to_numeric(test_data_final['close'], errors = 'coerce').values\n",
        "test_inputs = test_data_final['close'].values\n",
        "test_inputs = test_inputs.reshape(-1,1)\n",
        "model_inputs = scaler.fit_transform(test_inputs)\n",
        "model_inputs"
      ]
    },
    {
      "cell_type": "markdown",
      "source": [
        "# Setting up x_test and y_test"
      ],
      "metadata": {
        "id": "Iio5J477LzRU"
      }
    },
    {
      "cell_type": "code",
      "source": [
        "y_test = scaler.inverse_transform(model_inputs)"
      ],
      "metadata": {
        "id": "6lfaYCFA_OXL"
      },
      "execution_count": null,
      "outputs": []
    },
    {
      "cell_type": "code",
      "execution_count": null,
      "metadata": {
        "id": "vEF0pSfsdbsV"
      },
      "outputs": [],
      "source": [
        "x_test = []\n",
        "for x in range(time_intervals_to_train, len(model_inputs)):\n",
        "  x_test.append(model_inputs[x-time_intervals_to_train:x,0])\n",
        "\n",
        "x_test = np.array(x_test)\n",
        "x_test = np.reshape(x_test, (x_test.shape[0], x_test.shape[1], 1))"
      ]
    },
    {
      "cell_type": "code",
      "execution_count": null,
      "metadata": {
        "id": "zuAKw4IBea0d"
      },
      "outputs": [],
      "source": [
        "x_test.shape"
      ]
    },
    {
      "cell_type": "markdown",
      "metadata": {
        "id": "_dvLDEzhUilk"
      },
      "source": [
        "#predicting prices of x_test using our model"
      ]
    },
    {
      "cell_type": "code",
      "execution_count": null,
      "metadata": {
        "id": "ANBAN2T_eb5E"
      },
      "outputs": [],
      "source": [
        "prediction_prices = model.predict(x_test)\n",
        "prediction_prices = scaler.inverse_transform(prediction_prices)\n",
        "prediction_prices"
      ]
    },
    {
      "cell_type": "markdown",
      "source": [
        "# Comparing predicted prices of x_test to actual values of y_test"
      ],
      "metadata": {
        "id": "C7vpWGKVL6oW"
      }
    },
    {
      "cell_type": "code",
      "source": [
        "plt.figure(figsize=(15,6))\n",
        "plt.plot(bitcoin_prices, label='Actual Bitcoin Prices')\n",
        "plt.plot(prediction_prices, label='Prediction Pries')\n",
        "plt.title('Predicting Bitcoin Prices')\n",
        "plt.xlabel('30 min Time Interval')\n",
        "plt.ylabel('Price')\n",
        "plt.legend()\n",
        "plt.show()"
      ],
      "metadata": {
        "id": "pDQgxcM-yqN_"
      },
      "execution_count": null,
      "outputs": []
    },
    {
      "cell_type": "markdown",
      "source": [
        "# Predicting Bitcoin price after 6 hours"
      ],
      "metadata": {
        "id": "9Ycna6gqMDof"
      }
    },
    {
      "cell_type": "code",
      "execution_count": null,
      "metadata": {
        "id": "qbi39B1feyIb"
      },
      "outputs": [],
      "source": [
        "last_data = model_inputs[len(model_inputs) - time_intervals_to_train:len(model_inputs)+1, 0]\n",
        "last_data = np.array(last_data)\n",
        "last_data"
      ]
    },
    {
      "cell_type": "code",
      "execution_count": null,
      "metadata": {
        "id": "doWtW6vrg2vO"
      },
      "outputs": [],
      "source": [
        "last_data = np.reshape(last_data, (1, last_data.shape[0], 1))\n",
        "last_data.shape"
      ]
    },
    {
      "cell_type": "code",
      "execution_count": null,
      "metadata": {
        "id": "jpRq-nhzhGr-"
      },
      "outputs": [],
      "source": [
        "prediction = model.predict(last_data)\n",
        "prediction"
      ]
    },
    {
      "cell_type": "code",
      "execution_count": null,
      "metadata": {
        "id": "lxkmSfU5iBpJ"
      },
      "outputs": [],
      "source": [
        "prediction = scaler.inverse_transform(prediction)\n",
        "print(\"Bitcoin Price after 6 hours will be :\")\n",
        "print(prediction)"
      ]
    }
  ],
  "metadata": {
    "accelerator": "GPU",
    "colab": {
      "provenance": []
    },
    "gpuClass": "standard",
    "kernelspec": {
      "display_name": "Python 3",
      "name": "python3"
    },
    "language_info": {
      "name": "python"
    }
  },
  "nbformat": 4,
  "nbformat_minor": 0
}